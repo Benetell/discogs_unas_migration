{
 "cells": [
  {
   "cell_type": "markdown",
   "metadata": {},
   "source": [
    "### Import Libraries and define api key\n"
   ]
  },
  {
   "cell_type": "code",
   "execution_count": 2,
   "metadata": {},
   "outputs": [],
   "source": [
    "import discogs_client\n",
    "import pandas as pd\n",
    "\n",
    "# Initialize the Discogs client\n",
    "d = discogs_client.Client('LemezOrdogApi/0.1', user_token=\"KknnVqdxKxtMueECuRUIvfhHwjadKbQLlRlCjzQh\")\n",
    "user = d.user('lemezordog')\n",
    "\n",
    "# Fetch the inventory\n",
    "inventory = user.inventory\n"
   ]
  },
  {
   "cell_type": "markdown",
   "metadata": {},
   "source": [
    "### Reading existing Unas database"
   ]
  },
  {
   "cell_type": "code",
   "execution_count": 5,
   "metadata": {},
   "outputs": [],
   "source": [
    "df_unas = pd.read_csv('UnasShop_vinyildevil-unas-hu_20240927-212837.csv')"
   ]
  },
  {
   "cell_type": "code",
   "execution_count": null,
   "metadata": {},
   "outputs": [],
   "source": [
    "df_unas.head(3)"
   ]
  },
  {
   "cell_type": "markdown",
   "metadata": {},
   "source": [
    "### Migration: scraping Discogs database with regard to Unas database format  "
   ]
  },
  {
   "cell_type": "code",
   "execution_count": null,
   "metadata": {},
   "outputs": [],
   "source": [
    "import math\n",
    "\n",
    "# Conversion rate (example rate, update accordingly)\n",
    "HUF_PER_EUR = 385\n",
    "\n",
    "\n",
    "for item in inventory:\n",
    "    release = item.release\n",
    "\n",
    "    # Constructing Termék Név\n",
    "    termeknev = ', '.join([artist.name for artist in release.artists]) + \" / \" + release.title + \" \" + release.labels[0].catno\n",
    "    # Constructing Cikkszám\n",
    "    import re\n",
    "\n",
    "    ## Define the mapping for Hungarian characters to English equivalents\n",
    "    hungarian_to_english = {\n",
    "        'á': 'a', 'é': 'e', 'í': 'i', 'ó': 'o', 'ö': 'o', 'ő': 'o',\n",
    "        'ú': 'u', 'ü': 'u', 'ű': 'u', 'Á': 'A', 'É': 'E', 'Í': 'I', \n",
    "        'Ó': 'O', 'Ö': 'O', 'Ő': 'O', 'Ú': 'U', 'Ü': 'U', 'Ű': 'U'\n",
    "    }\n",
    "\n",
    "    ## Function to replace Hungarian characters with English equivalents\n",
    "    def replace_hungarian_characters(text):\n",
    "        for hu_char, en_char in hungarian_to_english.items():\n",
    "            text = text.replace(hu_char, en_char)\n",
    "        return text\n",
    "\n",
    "    cikkszam = termeknev.split('/')[1].strip()  # Keep only the part after the last /\n",
    "    cikkszam = replace_hungarian_characters(cikkszam)  # Replace Hungarian characters\n",
    "    cikkszam = re.sub(r'[^a-zA-Z 0-9 /-]', '', cikkszam)  # Keep only English letters, spaces, and '-'\n",
    "    cikkszam = re.sub(r'\\s+', '-', cikkszam)  # Replace spaces with '-'\n",
    "    cikkszam = re.sub(r'-+', '-', cikkszam)  # Replace multiple '-' with a single '-'\n",
    "    cikkszam = cikkszam[0:49] if len(cikkszam) <= 49 else cikkszam[-49:]  # Ensure it's not longer than 49 characters\n",
    "\n",
    "    \n",
    "    # Setting other fields\n",
    "    status = 1\n",
    "   # Price value is already a float\n",
    "    price_value = item.price.value  # This is 450.0\n",
    "\n",
    "    # Calculate nettó and bruttó ár\n",
    "    netto_ar = brutto_ar = price_value * 390.5  # This should work without error\n",
    "\n",
    "    # Debug print to check values\n",
    "    print(f\"Nettó Ár: {netto_ar}, Bruttó Ár: {brutto_ar}\")\n",
    "\n",
    "    # Setting Kategória\n",
    "    # Extract the format (e.g., 'Vinyl', 'CD', etc.)\n",
    "    \n",
    "    kategoria = \"Használt bakelit/vinyl lemezek, CD-k és kazetták|\" + release.genres[0]\n",
    "   \n",
    "    # Rövid Leírás\n",
    "    \n",
    "    rovid_leiras = (\n",
    "        \"A lemez állapotát szemrevételezés alapján állapítottam meg. Kérem ennek tudatában vásároljon.\"\n",
    "        f\"<br /><br />Made in {release.country}, {release.year}<br /><br />\"\n",
    "    )\n",
    "    # Hosszú leírás\n",
    "    hosszu_leiras = item.comments\n",
    "\n",
    "    # Lemez állapota\n",
    "    lemez_allapot = item.sleeve_condition\n",
    "\n",
    "    # Borító állapota\n",
    "    borito_allapot = item.condition\n",
    "\n",
    "    # Tömeg\n",
    "    tomeg = 0.2\n",
    "    \n",
    "    # Képek\n",
    "    image_links = []\n",
    "    kep_link = \"|\".join(image_links) if image_links else 'NaN'\n",
    "    \n",
    "    # Egység\n",
    "    egyseg = \"db\"\n",
    "    \n",
    "    # label\n",
    "    label = ', '.join([label.name for label in release.labels])\n",
    "\n",
    "    # Print or export the data\n",
    "    print({\n",
    "        'Cikkszám': cikkszam,\n",
    "        'Termék Név': termeknev,\n",
    "        'Státusz': status,\n",
    "        'Nettó Ár': netto_ar,\n",
    "        'Bruttó Ár': brutto_ar,\n",
    "        'Kategória': kategoria,\n",
    "        'Rövid Leírás': rovid_leiras,\n",
    "        'Hosszú leírás': hosszu_leiras,\n",
    "        'Kép link': kep_link,\n",
    "        'Egység': egyseg,\n",
    "        'Tömeg': tomeg,\n",
    "        'Paraméter: Lemez állapota||text' : lemez_allapot,\n",
    "        'Paraméter: Borító állapota||text' : borito_allapot,\n",
    "        'Paraméter: Label||text' : label\n",
    "\n",
    "    })\n",
    "    \n",
    "    break"
   ]
  },
  {
   "cell_type": "code",
   "execution_count": 40,
   "metadata": {},
   "outputs": [],
   "source": [
    "# Prepare a list to store inventory data\n",
    "inventory_data = []\n",
    "HUF_PER_EUR = 396.81\n",
    "\n",
    "# Loop through inventory items\n",
    "for item in inventory:\n",
    "    release = item.release\n",
    "\n",
    "    # Constructing Termék Név\n",
    "    termeknev = ', '.join([artist.name for artist in release.artists]) + \" / \" + release.title + \" \" + release.labels[0].catno\n",
    "\n",
    "    # Constructing Cikkszám\n",
    "    import re\n",
    "\n",
    "    ## Define the mapping for Hungarian characters to English equivalents\n",
    "    hungarian_to_english = {\n",
    "        'á': 'a', 'é': 'e', 'í': 'i', 'ó': 'o', 'ö': 'o', 'ő': 'o',\n",
    "        'ú': 'u', 'ü': 'u', 'ű': 'u', 'Á': 'A', 'É': 'E', 'Í': 'I', \n",
    "        'Ó': 'O', 'Ö': 'O', 'Ő': 'O', 'Ú': 'U', 'Ü': 'U', 'Ű': 'U'\n",
    "    }\n",
    "   ## Function to replace Hungarian characters with English equivalents\n",
    "    def replace_hungarian_characters(text):\n",
    "        for hu_char, en_char in hungarian_to_english.items():\n",
    "            text = text.replace(hu_char, en_char)\n",
    "        return text\n",
    "\n",
    "    cikkszam = termeknev.split('/')[1].strip()  # Keep only the part after the last /\n",
    "    cikkszam = replace_hungarian_characters(cikkszam)  # Replace Hungarian characters\n",
    "    cikkszam = re.sub(r'[^a-zA-Z 0-9 /-]', '', cikkszam)  # Keep only English letters, spaces, and '-'\n",
    "    cikkszam = re.sub(r'\\s+', '-', cikkszam)  # Replace spaces with '-'\n",
    "    cikkszam = re.sub(r'-+', '-', cikkszam)  # Replace multiple '-' with a single '-'\n",
    "    cikkszam = cikkszam[0:49] if len(cikkszam) <= 49 else cikkszam[-49:]  # Ensure it's not longer than 49 characters\n",
    "\n",
    "\n",
    "\n",
    "    # Setting other fields\n",
    "    status = 1\n",
    "    netto_ar = brutto_ar = item.price.value * HUF_PER_EUR\n",
    "    \n",
    "    # Setting Kategória\n",
    "\n",
    "    kategoria = \"Használt bakelit/vinyl lemezek, CD-k és kazetták|\" + release.genres[0]\n",
    "   \n",
    "    # Rövid Leírás\n",
    "    rovid_leiras = (\n",
    "        \"A lemez állapotát szemrevételezés alapján állapítottam meg. Kérem ennek tudatában vásároljon.\"\n",
    "        f\"<br /><br />Made in {release.country}, {release.year}<br /><br />0129\"\n",
    "    )\n",
    "    # Hosszú leírás\n",
    "    hosszu_leiras = item.comments\n",
    "\n",
    "    # Lemez állapota\n",
    "    lemez_allapot = item.sleeve_condition\n",
    "\n",
    "    # Borító állapota\n",
    "    borito_allapot = item.condition\n",
    "\n",
    "    # Tömeg\n",
    "    tomeg = 0.2\n",
    "    \n",
    "    # Képek\n",
    "    image_links = []\n",
    "\n",
    "    \n",
    "\n",
    "    # Egység\n",
    "    egyseg = \"db\"\n",
    "    \n",
    "    # label\n",
    "    label = ', '.join([label.name for label in release.labels])\n",
    "\n",
    "    # Print or export the data\n",
    "    inventory_data.append({\n",
    "        'Cikkszám': cikkszam,\n",
    "        'Termék Név': termeknev,\n",
    "        'Státusz': status,\n",
    "        'Nettó Ár': netto_ar,\n",
    "        'Bruttó Ár': brutto_ar,\n",
    "        'Kategória': kategoria,\n",
    "        'Rövid Leírás': rovid_leiras,\n",
    "        'Hosszú leírás': hosszu_leiras,\n",
    "        'Kép link': kep_link,\n",
    "        'Egység': egyseg,\n",
    "        'Tömeg': tomeg,\n",
    "        'Paraméter: Lemez állapota||text' : lemez_allapot,\n",
    "        'Paraméter: Borító állapota||text' : borito_allapot,\n",
    "        'Paraméter: Label||text' : label\n",
    "\n",
    "    })\n"
   ]
  },
  {
   "cell_type": "code",
   "execution_count": 41,
   "metadata": {},
   "outputs": [],
   "source": [
    "df = pd.DataFrame(inventory_data)\n"
   ]
  },
  {
   "cell_type": "code",
   "execution_count": 42,
   "metadata": {},
   "outputs": [],
   "source": [
    "df.to_csv('discogs_inventory.csv', index=False)\n"
   ]
  },
  {
   "cell_type": "code",
   "execution_count": 35,
   "metadata": {},
   "outputs": [],
   "source": [
    "df = pd.read_csv('discogs_inventory.csv')"
   ]
  },
  {
   "cell_type": "markdown",
   "metadata": {},
   "source": [
    "## Images"
   ]
  },
  {
   "cell_type": "code",
   "execution_count": null,
   "metadata": {},
   "outputs": [],
   "source": [
    "import os\n",
    "import requests\n",
    "import pandas as pd\n",
    "import numpy as np\n",
    "\n",
    "# Directory to save images\n",
    "save_dir = 'images/'\n",
    "os.makedirs(save_dir, exist_ok=True)\n",
    "\n",
    "# Function to save images based on cikkszam\n",
    "def save_images(cikkszam, image_links):\n",
    "    if pd.isna(image_links):  # Check if the image_links is NaN\n",
    "        return\n",
    "    \n",
    "    images = image_links.split('|')  # Split image links by '|'\n",
    "    for idx, image_url in enumerate(images[:10]):  # Limit to 10 images per product\n",
    "        headers = {\n",
    "            'User-Agent': 'LemezOrdogApi/0.1 + http://www.lemezordog.hu/',\n",
    "        }\n",
    "        try:\n",
    "            response = requests.get(image_url, headers=headers)\n",
    "            if response.status_code == 200:\n",
    "                # Construct filename for main or alt images\n",
    "                if idx == 0:\n",
    "                    image_path = os.path.join(save_dir, f'{cikkszam}.jpg')  # Main image\n",
    "                else:\n",
    "                    image_path = os.path.join(save_dir, f'{cikkszam}_altpic_{idx}.jpg')  # Alt image\n",
    "                # Save the image locally\n",
    "                with open(image_path, 'wb') as f:\n",
    "                    f.write(response.content)\n",
    "        except requests.exceptions.RequestException as e:\n",
    "            print(f\"Error downloading image from URL: {image_url}, Error: {e}\")\n",
    "\n",
    "# Iterate over DataFrame to save images\n",
    "for i, row in df.iterrows():\n",
    "    cikkszam = row['Cikkszám']\n",
    "    image_links = row['Kép link']\n",
    "    save_images(cikkszam, image_links)\n",
    "\n",
    "    # Print progress every 10 items\n",
    "    if i % 10 == 0:\n",
    "        print(f\"Processed {i} items\")\n"
   ]
  },
  {
   "cell_type": "code",
   "execution_count": null,
   "metadata": {},
   "outputs": [],
   "source": [
    "\n",
    "# Base URL for the new image location\n",
    "base_url = \"https://shop.unas.hu/shop_ordered/81963/pic/images/\"\n",
    "\n",
    "# Function to generate new image links based on cikkszam\n",
    "def generate_new_links(cikkszam, image_links):\n",
    "    if pd.isna(image_links):\n",
    "        return np.nan\n",
    "    \n",
    "    images = image_links.split('|')\n",
    "    new_links = []\n",
    "    for idx in range(len(images)):\n",
    "        if idx == 0:\n",
    "            # Main image\n",
    "            new_links.append(f\"{base_url}{cikkszam}.jpg\")\n",
    "        elif idx<10:\n",
    "            # Alt image with numbering\n",
    "            new_links.append(f\"{base_url}{cikkszam}_altpic_{idx}.jpg\")\n",
    "    #print(new_links)\n",
    "    return '|'.join(new_links)\n",
    "df2 = df.copy()\n",
    "# Update the DataFrame with new links\n",
    "df2['Kép link'] = df.apply(lambda row: generate_new_links(row['Cikkszám'], row['Kép link']), axis=1)\n",
    "\n"
   ]
  },
  {
   "cell_type": "code",
   "execution_count": 64,
   "metadata": {},
   "outputs": [],
   "source": [
    "df['Kép link'] = \"http://www.lemezordog.hu/\""
   ]
  },
  {
   "cell_type": "markdown",
   "metadata": {},
   "source": [
    "### Concatenating the two databases"
   ]
  },
  {
   "cell_type": "code",
   "execution_count": 49,
   "metadata": {},
   "outputs": [],
   "source": [
    "res = pd.concat([df_unas,df])"
   ]
  },
  {
   "cell_type": "code",
   "execution_count": null,
   "metadata": {},
   "outputs": [],
   "source": [
    "res.isna().any()"
   ]
  },
  {
   "cell_type": "code",
   "execution_count": 59,
   "metadata": {},
   "outputs": [],
   "source": [
    "res.to_csv('result.csv', index=False)"
   ]
  },
  {
   "cell_type": "code",
   "execution_count": 139,
   "metadata": {},
   "outputs": [],
   "source": [
    "def generate_cikkszam(termeknev, existing_cikkszams):\n",
    "    cikkszam = termeknev.split('/')[1].strip()  # Keep only the part after the last /\n",
    "    cikkszam = replace_hungarian_characters(cikkszam)  # Replace Hungarian characters\n",
    "    cikkszam = re.sub(r'[^a-zA-Z 0-9 /-]', '', cikkszam)  # Keep only English letters, spaces, and '-'\n",
    "    cikkszam = re.sub(r'\\s+', '-', cikkszam)  # Replace spaces with '-'\n",
    "    cikkszam = re.sub(r'-+', '-', cikkszam)  # Replace multiple '-' with a single '-'\n",
    "    cikkszam = cikkszam[0:49] if len(cikkszam) <= 49 else cikkszam[-49:]  # Ensure it's not longer than 49 characters\n",
    "\n",
    "    # Check for duplicates and index if necessary\n",
    "    original_cikkszam = cikkszam\n",
    "    index = 1\n",
    "    while cikkszam in existing_cikkszams:\n",
    "        cikkszam = f\"{original_cikkszam}-{index}\"\n",
    "        cikkszam = cikkszam[:49]  # Ensure it still meets the length requirement\n",
    "        index += 1\n",
    "\n",
    "    return cikkszam\n",
    "\n",
    "# Set to keep track of existing cikkszams\n",
    "existing_cikkszams = set()\n",
    "\n",
    "# Apply the function to the termeknev column to create cikkszam\n",
    "cikkszams = []\n",
    "for termeknev in df['Termék Név']:\n",
    "    cikkszam = generate_cikkszam(termeknev, existing_cikkszams)\n",
    "    cikkszams.append(cikkszam)\n",
    "    existing_cikkszams.add(cikkszam)\n",
    "\n",
    "df['Cikkszám'] = cikkszams\n"
   ]
  },
  {
   "cell_type": "markdown",
   "metadata": {},
   "source": [
    "### Specific requests after showcase"
   ]
  },
  {
   "cell_type": "code",
   "execution_count": 136,
   "metadata": {},
   "outputs": [],
   "source": [
    "df['Raktárkészlet'] = 0"
   ]
  },
  {
   "cell_type": "code",
   "execution_count": 101,
   "metadata": {},
   "outputs": [],
   "source": [
    "mask = df[df['Hosszú leírás'].isna()==False]"
   ]
  },
  {
   "cell_type": "code",
   "execution_count": 137,
   "metadata": {},
   "outputs": [],
   "source": [
    "df.loc[:,\"Rövid Leírás\"] = mask.loc[:,\"Rövid Leírás\"] + \" \\n \"+ mask.loc[:,\"Hosszú leírás\"]"
   ]
  },
  {
   "cell_type": "code",
   "execution_count": 138,
   "metadata": {},
   "outputs": [],
   "source": [
    "# Reset index to avoid duplicate labels\n",
    "df = df.reset_index(drop=True)\n",
    "\n",
    "# Apply the conditional modification\n",
    "df.loc[res[\"Rövid Leírás\"].str.contains(\"új fóliás\", case=False, na=False), \"Kategória\"] = (\n",
    "    res[\"Kategória\"].str.replace(r\"^[^|]*\", \"Új bakelit/vinyl lemezek és CD-k\", regex=True)\n",
    ")\n"
   ]
  },
  {
   "cell_type": "code",
   "execution_count": 140,
   "metadata": {},
   "outputs": [],
   "source": [
    "df['Hosszú leírás'] = np.nan"
   ]
  },
  {
   "cell_type": "code",
   "execution_count": 113,
   "metadata": {},
   "outputs": [],
   "source": [
    "df['Státusz'] = 1"
   ]
  },
  {
   "cell_type": "code",
   "execution_count": 142,
   "metadata": {},
   "outputs": [],
   "source": [
    "df.to_csv(\"result.csv\", index=False)"
   ]
  },
  {
   "cell_type": "code",
   "execution_count": 121,
   "metadata": {},
   "outputs": [],
   "source": [
    "test = pd.read_excel('unas.xlsx')"
   ]
  },
  {
   "cell_type": "code",
   "execution_count": null,
   "metadata": {},
   "outputs": [],
   "source": [
    "test.loc[test['Kép link']==\"www.lemezordog.hu\",:]"
   ]
  },
  {
   "cell_type": "code",
   "execution_count": null,
   "metadata": {},
   "outputs": [],
   "source": [
    "test['Kép link'].value_counts()"
   ]
  },
  {
   "cell_type": "code",
   "execution_count": null,
   "metadata": {},
   "outputs": [],
   "source": []
  }
 ],
 "metadata": {
  "kernelspec": {
   "display_name": "myenv",
   "language": "python",
   "name": "python3"
  },
  "language_info": {
   "codemirror_mode": {
    "name": "ipython",
    "version": 3
   },
   "file_extension": ".py",
   "mimetype": "text/x-python",
   "name": "python",
   "nbconvert_exporter": "python",
   "pygments_lexer": "ipython3",
   "version": "3.12.4"
  }
 },
 "nbformat": 4,
 "nbformat_minor": 2
}
